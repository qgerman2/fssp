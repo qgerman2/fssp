{
 "cells": [
  {
   "cell_type": "code",
   "execution_count": 10,
   "metadata": {},
   "outputs": [
    {
     "name": "stdout",
     "output_type": "stream",
     "text": [
      "TAS: 0.0 knots\n",
      "TAS: 0.0 knots\n",
      "TAS: 0.0 knots\n",
      "TAS: 0.0 knots\n",
      "TAS: 0.0 knots\n",
      "TAS: 0.0 knots\n",
      "TAS: 0.0 knots\n",
      "TAS: 0.0 knots\n",
      "TAS: 0.0 knots\n",
      "TAS: 0.0 knots\n",
      "TAS: 0.0 knots\n"
     ]
    }
   ],
   "source": [
    "import socket\n",
    "import struct\n",
    "import time\n",
    "\n",
    "IP = \"127.0.0.1\"\n",
    "PORT_SERVER = 27015\n",
    "PORT_CLIENT = 27016\n",
    "\n",
    "sock_send = socket.socket(socket.AF_INET, socket.SOCK_DGRAM)\n",
    "sock_recv = socket.socket(socket.AF_INET, socket.SOCK_DGRAM)\n",
    "sock_recv.bind((IP, PORT_CLIENT))\n",
    "\n",
    "# Set up which memory locations will be written to regularly,\n",
    "# and which data type it expects (OFFSET:data type;)\n",
    "control = \"C;310A:c;089A:s;\"\n",
    "packet = bytes(control, \"ascii\")\n",
    "sock_send.sendto(packet, (IP, PORT_SERVER))\n",
    "\n",
    "# Set up which memory locations to monitor and receive regular updates from\n",
    "monitor = \"M;2B8:i;\"\n",
    "packet = bytes(monitor, \"ascii\")\n",
    "sock_send.sendto(packet, (IP, PORT_SERVER))\n",
    "for i in range(11):\n",
    "\tdata, addr = sock_recv.recvfrom(1024)\n",
    "\t# Unpack bytes received, as float64\n",
    "\tvalues = struct.unpack(\"<d\", data)\n",
    "\tprint(\"TAS: \" + str(values[0]/128) + \" knots\")\n"
   ]
  }
 ],
 "metadata": {
  "kernelspec": {
   "display_name": "base",
   "language": "python",
   "name": "python3"
  },
  "language_info": {
   "codemirror_mode": {
    "name": "ipython",
    "version": 3
   },
   "file_extension": ".py",
   "mimetype": "text/x-python",
   "name": "python",
   "nbconvert_exporter": "python",
   "pygments_lexer": "ipython3",
   "version": "3.10.12"
  },
  "orig_nbformat": 4
 },
 "nbformat": 4,
 "nbformat_minor": 2
}
