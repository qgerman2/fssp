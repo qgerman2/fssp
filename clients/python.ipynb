{
 "cells": [
  {
   "cell_type": "code",
   "execution_count": 2,
   "metadata": {},
   "outputs": [],
   "source": [
    "import socket\n",
    "import struct\n",
    "import time\n",
    "\n",
    "IP = \"127.0.0.1\"\n",
    "PORT_SERVER = 27015\n",
    "PORT_CLIENT = 27016\n",
    "\n",
    "sock_send = socket.socket(socket.AF_INET, socket.SOCK_DGRAM)\n",
    "sock_recv = socket.socket(socket.AF_INET, socket.SOCK_DGRAM)\n",
    "sock_recv.bind((IP, PORT_CLIENT))\n",
    "\n",
    "def inofs_send(s: str=\"\", *args):\n",
    "\tb = b\"\"\n",
    "\tif (len(args) > 0):\n",
    "\t\tb = struct.pack(\"<\" + s[0]*len(args), *args)\n",
    "\tsock_send.sendto(bytes(s, \"ascii\") + b, (IP, PORT_SERVER))\n",
    "    \n",
    "def inofs_recv(format: str):\n",
    "\tdata, _ = sock_recv.recvfrom(1024)\n",
    "\treturn struct.unpack(format, data)"
   ]
  },
  {
   "cell_type": "code",
   "execution_count": 7,
   "metadata": {},
   "outputs": [
    {
     "ename": "TypeError",
     "evalue": "'int' object is not subscriptable",
     "output_type": "error",
     "traceback": [
      "\u001b[1;31m---------------------------------------------------------------------------\u001b[0m",
      "\u001b[1;31mTypeError\u001b[0m                                 Traceback (most recent call last)",
      "Cell \u001b[1;32mIn[7], line 6\u001b[0m\n\u001b[0;32m      4\u001b[0m \tinputs \u001b[39m=\u001b[39m \u001b[39m8\u001b[39m\n\u001b[0;32m      5\u001b[0m \tthrottle \u001b[39m=\u001b[39m \u001b[39m16384\u001b[39m\u001b[39m/\u001b[39m\u001b[39m10\u001b[39m\u001b[39m*\u001b[39mi\n\u001b[1;32m----> 6\u001b[0m \tinofs_send(inputs, throttle)\n\u001b[0;32m      7\u001b[0m \ttime\u001b[39m.\u001b[39msleep(\u001b[39m0.1\u001b[39m);\n\u001b[0;32m      8\u001b[0m inofs_send(\u001b[39m\"\u001b[39m\u001b[39mdC;\u001b[39m\u001b[39m\"\u001b[39m)\n",
      "Cell \u001b[1;32mIn[5], line 16\u001b[0m, in \u001b[0;36minofs_send\u001b[1;34m(s, *args)\u001b[0m\n\u001b[0;32m     14\u001b[0m b \u001b[39m=\u001b[39m \u001b[39mb\u001b[39m\u001b[39m\"\u001b[39m\u001b[39m\"\u001b[39m\n\u001b[0;32m     15\u001b[0m \u001b[39mif\u001b[39;00m (\u001b[39mlen\u001b[39m(args) \u001b[39m>\u001b[39m \u001b[39m0\u001b[39m):\n\u001b[1;32m---> 16\u001b[0m \tb \u001b[39m=\u001b[39m struct\u001b[39m.\u001b[39mpack(\u001b[39m\"\u001b[39m\u001b[39m<\u001b[39m\u001b[39m\"\u001b[39m \u001b[39m+\u001b[39m s[\u001b[39m0\u001b[39;49m]\u001b[39m*\u001b[39m\u001b[39mlen\u001b[39m(args), \u001b[39m*\u001b[39margs)\n\u001b[0;32m     17\u001b[0m sock_send\u001b[39m.\u001b[39msendto(\u001b[39mbytes\u001b[39m(s, \u001b[39m\"\u001b[39m\u001b[39mascii\u001b[39m\u001b[39m\"\u001b[39m) \u001b[39m+\u001b[39m b, (IP, PORT_SERVER))\n",
      "\u001b[1;31mTypeError\u001b[0m: 'int' object is not subscriptable"
     ]
    }
   ],
   "source": [
    "# Set up throttle control\n",
    "inofs_send(\"dC;310A:c;089A:s;\")\n",
    "for i in range(11):\n",
    "\tinputs = 8\n",
    "\tthrottle = 16384/10*i\n",
    "\tinofs_send(inputs, throttle)\n",
    "\ttime.sleep(0.1);\n",
    "inofs_send(\"dC;\")\n",
    "\n",
    "# Set up TAS speed monitor\n",
    "inofs_send(\"fM;2B8:i;\")\n",
    "for i in range(10):\n",
    "\tvalues = inofs_recv(\"<ff\")\n",
    "\tprint(\"TAS: \" + str(values[1]/128) + \" knots\")\n",
    "inofs_send(\"fM;\")"
   ]
  },
  {
   "cell_type": "code",
   "execution_count": 36,
   "metadata": {},
   "outputs": [
    {
     "name": "stdout",
     "output_type": "stream",
     "text": [
      "8\n"
     ]
    },
    {
     "ename": "error",
     "evalue": "unpack requires a buffer of 4 bytes",
     "output_type": "error",
     "traceback": [
      "\u001b[1;31m---------------------------------------------------------------------------\u001b[0m",
      "\u001b[1;31merror\u001b[0m                                     Traceback (most recent call last)",
      "Cell \u001b[1;32mIn[36], line 5\u001b[0m\n\u001b[0;32m      3\u001b[0m data, _ \u001b[39m=\u001b[39m sock_recv\u001b[39m.\u001b[39mrecvfrom(\u001b[39m1024\u001b[39m)\n\u001b[0;32m      4\u001b[0m \u001b[39mprint\u001b[39m(\u001b[39mlen\u001b[39m(data))\n\u001b[1;32m----> 5\u001b[0m values \u001b[39m=\u001b[39m struct\u001b[39m.\u001b[39;49munpack(\u001b[39m\"\u001b[39;49m\u001b[39m<f\u001b[39;49m\u001b[39m\"\u001b[39;49m, data)\n\u001b[0;32m      6\u001b[0m \u001b[39mprint\u001b[39m(\u001b[39mstr\u001b[39m(values[\u001b[39m0\u001b[39m]))\n",
      "\u001b[1;31merror\u001b[0m: unpack requires a buffer of 4 bytes"
     ]
    }
   ],
   "source": [
    "# Read if the sim is paused\n",
    "inofs_send(\"fR:2;264:us;\")\n",
    "data, _ = sock_recv.recvfrom(1024)\n",
    "print(len(data))\n",
    "values = struct.unpack(\"<f\", data)\n",
    "print(str(values[0]))"
   ]
  },
  {
   "cell_type": "code",
   "execution_count": 18,
   "metadata": {},
   "outputs": [],
   "source": [
    "# Set game pause\n",
    "pause = True\n",
    "inofs_send(\"dW;262:us;\", pause)"
   ]
  }
 ],
 "metadata": {
  "kernelspec": {
   "display_name": "base",
   "language": "python",
   "name": "python3"
  },
  "language_info": {
   "codemirror_mode": {
    "name": "ipython",
    "version": 3
   },
   "file_extension": ".py",
   "mimetype": "text/x-python",
   "name": "python",
   "nbconvert_exporter": "python",
   "pygments_lexer": "ipython3",
   "version": "3.10.12"
  },
  "orig_nbformat": 4
 },
 "nbformat": 4,
 "nbformat_minor": 2
}
