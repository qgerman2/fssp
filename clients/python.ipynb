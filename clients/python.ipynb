{
 "cells": [
  {
   "cell_type": "code",
   "execution_count": 17,
   "metadata": {},
   "outputs": [
    {
     "name": "stdout",
     "output_type": "stream",
     "text": [
      "TAS: 12.21875 knots\n",
      "TAS: 12.4921875 knots\n",
      "TAS: 12.6171875 knots\n",
      "TAS: 12.890625 knots\n",
      "TAS: 13.1875 knots\n",
      "TAS: 13.4453125 knots\n",
      "TAS: 13.6015625 knots\n",
      "TAS: 13.7421875 knots\n",
      "TAS: 13.8828125 knots\n",
      "TAS: 14.078125 knots\n",
      "TAS: 14.2890625 knots\n"
     ]
    }
   ],
   "source": [
    "import socket\n",
    "import struct\n",
    "import time\n",
    "\n",
    "IP = \"127.0.0.1\"\n",
    "PORT_SERVER = 27015\n",
    "PORT_CLIENT = 27016\n",
    "\n",
    "sock_send = socket.socket(socket.AF_INET, socket.SOCK_DGRAM)\n",
    "sock_recv = socket.socket(socket.AF_INET, socket.SOCK_DGRAM)\n",
    "sock_recv.bind((IP, PORT_CLIENT))\n",
    "\n",
    "# Set up which memory locations will be written to regularly,\n",
    "# and which data type it expects (OFFSET:data type;)\n",
    "control = \"C;310A:c;089A:s;\"\n",
    "packet = bytes(control, \"ascii\")\n",
    "sock_send.sendto(packet, (IP, PORT_SERVER))\n",
    "for i in range(11):\n",
    "\t# 4th bit controls throttle\n",
    "\t# 00001000 = 8\n",
    "\tinputs = 8\n",
    "\t# Throttle goes from -4096 to 16384\n",
    "\tthrottle = 16384/10*i\n",
    "\t# Pack both values into bytes, always send float64\n",
    "\tpacket = struct.pack(\"<dd\", inputs, throttle)\n",
    "\tsock_send.sendto(packet, (IP, PORT_SERVER))\n",
    "\ttime.sleep(0.1);\n",
    "\n",
    "# Set up which memory locations to monitor and receive regular updates from\n",
    "monitor = \"M;2B8:i;\"\n",
    "packet = bytes(monitor, \"ascii\")\n",
    "sock_send.sendto(packet, (IP, PORT_SERVER))\n",
    "for i in range(11):\n",
    "\tdata, addr = sock_recv.recvfrom(1024)\n",
    "\t# Unpack bytes received, as float64\n",
    "\tvalues = struct.unpack(\"<d\", data)\n",
    "\tprint(\"TAS: \" + str(values[0]/128) + \" knots\")\n"
   ]
  },
  {
   "cell_type": "code",
   "execution_count": 72,
   "metadata": {},
   "outputs": [
    {
     "name": "stdout",
     "output_type": "stream",
     "text": [
      "b'W;262:us;\\x00\\x00\\x00\\x00\\x00\\x00\\xf0?'\n"
     ]
    },
    {
     "data": {
      "text/plain": [
       "17"
      ]
     },
     "execution_count": 72,
     "metadata": {},
     "output_type": "execute_result"
    }
   ],
   "source": [
    "import socket\n",
    "import struct\n",
    "import time\n",
    "\n",
    "IP = \"127.0.0.1\"\n",
    "PORT_SERVER = 27015\n",
    "PORT_CLIENT = 27016\n",
    "\n",
    "sock_send = socket.socket(socket.AF_INET, socket.SOCK_DGRAM)\n",
    "sock_recv = socket.socket(socket.AF_INET, socket.SOCK_DGRAM)\n",
    "sock_recv.bind((IP, PORT_CLIENT))\n",
    "\n",
    "# Set up which memory locations will be written to regularly,\n",
    "# and which data type it expects (OFFSET:data type;)\n",
    "control = \"W;262:us;\"\n",
    "packet2 = bytes(control, \"ascii\")\n",
    "data = struct.pack(\"<d\", 0)\n",
    "print(packet2 + data)\n",
    "sock_send.sendto(packet2 + data, (IP, PORT_SERVER))\n"
   ]
  }
 ],
 "metadata": {
  "kernelspec": {
   "display_name": "base",
   "language": "python",
   "name": "python3"
  },
  "language_info": {
   "codemirror_mode": {
    "name": "ipython",
    "version": 3
   },
   "file_extension": ".py",
   "mimetype": "text/x-python",
   "name": "python",
   "nbconvert_exporter": "python",
   "pygments_lexer": "ipython3",
   "version": "3.10.12"
  },
  "orig_nbformat": 4
 },
 "nbformat": 4,
 "nbformat_minor": 2
}
