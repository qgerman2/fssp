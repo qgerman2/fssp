{
 "cells": [
  {
   "cell_type": "code",
   "execution_count": 88,
   "metadata": {},
   "outputs": [],
   "source": [
    "import socket\n",
    "import struct\n",
    "import time\n",
    "\n",
    "IP = \"127.0.0.1\"\n",
    "PORT_SERVER = 27015\n",
    "PORT_CLIENT = 27016\n",
    "\n",
    "sock_send = socket.socket(socket.AF_INET, socket.SOCK_DGRAM)\n",
    "sock_recv = socket.socket(socket.AF_INET, socket.SOCK_DGRAM)\n",
    "sock_recv.bind((IP, PORT_CLIENT))\n",
    "\n",
    "def inofs_send(s: str=\"\", *args):\n",
    "\tb = b\"\"\n",
    "\tif (len(args) > 0):\n",
    "\t\tb = struct.pack(\"<\" + s[0]*len(args), *args)\n",
    "\tsock_send.sendto(bytes(s, \"ascii\") + b, (IP, PORT_SERVER))\n",
    "    \n",
    "def inofs_recv(format: str):\n",
    "\tdata, _ = sock_recv.recvfrom(1024)\n",
    "\treturn struct.unpack(format, data)"
   ]
  },
  {
   "cell_type": "code",
   "execution_count": 59,
   "metadata": {},
   "outputs": [
    {
     "name": "stdout",
     "output_type": "stream",
     "text": [
      "TAS: 1.0234375 knots\n",
      "TAS: 1.0234375 knots\n",
      "TAS: 1.0234375 knots\n",
      "TAS: 1.0234375 knots\n",
      "TAS: 1.0234375 knots\n",
      "TAS: 1.0234375 knots\n",
      "TAS: 1.0234375 knots\n",
      "TAS: 1.0234375 knots\n",
      "TAS: 1.0234375 knots\n",
      "TAS: 1.0234375 knots\n"
     ]
    }
   ],
   "source": [
    "# Set up throttle control\n",
    "inofs_send(\"dC;310A:c;089A:s;\")\n",
    "for i in range(11):\n",
    "\tinputs = 8\n",
    "\tthrottle = 16384/10*i\n",
    "\tpacket = struct.pack(\"<dd\", inputs, throttle)\n",
    "\tinofs_send(b=packet)\n",
    "\ttime.sleep(0.1);\n",
    "inofs_send(\"dC;\")\n",
    "\n",
    "# Set up TAS speed monitor\n",
    "inofs_send(\"fM;2B8:i;\")\n",
    "for i in range(10):\n",
    "\tvalues = inofs_recv(\"<ff\")\n",
    "\tprint(\"TAS: \" + str(values[1]/128) + \" knots\")\n",
    "inofs_send(\"fM;\")"
   ]
  },
  {
   "cell_type": "code",
   "execution_count": 60,
   "metadata": {},
   "outputs": [
    {
     "name": "stdout",
     "output_type": "stream",
     "text": [
      "1.0\n"
     ]
    }
   ],
   "source": [
    "# Read if the sim is paused\n",
    "inofs_send(\"fR:1;264:us;\")\n",
    "values = inofs_recv(\"<ff\")\n",
    "print(str(values[0]))"
   ]
  },
  {
   "cell_type": "code",
   "execution_count": 91,
   "metadata": {},
   "outputs": [],
   "source": [
    "# Set game pause\n",
    "pause = True\n",
    "inofs_send(\"dW;262:us;\", pause)"
   ]
  }
 ],
 "metadata": {
  "kernelspec": {
   "display_name": "base",
   "language": "python",
   "name": "python3"
  },
  "language_info": {
   "codemirror_mode": {
    "name": "ipython",
    "version": 3
   },
   "file_extension": ".py",
   "mimetype": "text/x-python",
   "name": "python",
   "nbconvert_exporter": "python",
   "pygments_lexer": "ipython3",
   "version": "3.10.12"
  },
  "orig_nbformat": 4
 },
 "nbformat": 4,
 "nbformat_minor": 2
}
